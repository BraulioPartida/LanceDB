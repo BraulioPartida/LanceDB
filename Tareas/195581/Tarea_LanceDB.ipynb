{
 "cells": [
  {
   "cell_type": "markdown",
   "metadata": {
    "id": "dXVF2G3AQ_HX"
   },
   "source": [
    "# **TAREA LanceDB**\n",
    "- Considera usar ANN para cada búsqueda o filtro"
   ]
  },
  {
   "cell_type": "markdown",
   "metadata": {
    "id": "bAWMZKlqOeHf"
   },
   "source": [
    "**Task 1: Consulta avanzada con proyección y filtro**\n",
    "\n",
    "Instrucciones:\n",
    "1. Genera un vector aleatorio con la misma dirección que los embeddings que están en la tabla mis_vectores\n",
    "2. Realiza una búsqueda en la tabla para encontrar los 5 elementos más cercanos\n",
    "3. Proyecta los resultados para mostrar solo las columnas item y _distance\n",
    "4. Excluye de los resultado los elementos cuyo nombre sea 'item 500'\n",
    "\n",
    "Pregunta: ¿Cuáles son los cinco elementos más cercanos que cumplen con los criterios y cuál es la distancia de cada uno?"
   ]
  },
  {
   "cell_type": "code",
   "execution_count": 45,
   "metadata": {},
   "outputs": [
    {
     "name": "stdout",
     "output_type": "stream",
     "text": [
      "Search Results:\n",
      "Item: item_225, Distance: 184.0005\n",
      "Item: item_463, Distance: 184.2056\n",
      "Item: item_567, Distance: 184.5808\n",
      "Item: item_312, Distance: 193.0034\n",
      "Item: item_339, Distance: 193.0357\n"
     ]
    }
   ],
   "source": [
    "import numpy as np\n",
    "import pandas as pd\n",
    "import lancedb\n",
    "\n",
    "# 1. Get information about the vectors in the table\n",
    "schema = table.schema \n",
    "embedding_column = schema.field(\"embedding\") \n",
    "sample_record = table.to_pandas().iloc[0]\n",
    "embedding_dim = len(sample_record[\"embedding\"])\n",
    "\n",
    "# 2. Generate a random vector with same dimensionality\n",
    "random_vector = np.random.randn(embedding_dim)\n",
    "\n",
    "# 3. Perform search for 5 closest items\n",
    "# Note: We don't select \"_distance\" in advance as it's added by the search operation\n",
    "results = (\n",
    "    table.search(random_vector, vector_column_name=\"embedding\")\n",
    "    .limit(5)  # Get top 5 results\n",
    ")\n",
    "\n",
    "# 4. Convert to pandas and filter out \"item 500\"\n",
    "results_df = results.to_pandas()\n",
    "filtered_results = results_df[results_df[\"item\"] != \"item 500\"]\n",
    "\n",
    "# 5. Display the filtered results\n",
    "print(\"Search Results:\")\n",
    "for index, result in filtered_results.iterrows():\n",
    "    print(f\"Item: {result['item']}, Distance: {result['_distance']:.4f}\")"
   ]
  },
  {
   "cell_type": "markdown",
   "metadata": {
    "id": "iGMzKnyOPPOF"
   },
   "source": [
    "**Task 2: Creación de tablas**\n",
    "\n",
    "Instrucciones:\n",
    "1. Define un nuevo esquema para una tabla vacía con las siguientes columnas:\n",
    "*   vector (vector de 4 dimensiones)\n",
    "*   nombre\n",
    "*   categoria\n",
    "2. Crea una tabla vacía llamada nueva_tabla usando el esquema\n",
    "3. Inserta 5 registros en la tabla\n",
    "4. Muestra el contenido de la tabla\n",
    "\n",
    "\n",
    "\n"
   ]
  },
  {
   "cell_type": "code",
   "execution_count": 46,
   "metadata": {
    "id": "ekQhX-IrRMto"
   },
   "outputs": [
    {
     "name": "stdout",
     "output_type": "stream",
     "text": [
      "\n",
      "Contenido de la tabla:\n",
      "                 vector      nombre     categoria\n",
      "0  [1.0, 2.0, 3.0, 4.0]  Producto A  Electrónicos\n",
      "1  [2.5, 3.5, 4.5, 5.5]  Producto B          Ropa\n",
      "2  [0.5, 1.5, 2.5, 3.5]  Producto C         Hogar\n",
      "3  [3.0, 3.0, 3.0, 3.0]  Producto D  Electrónicos\n",
      "4  [1.5, 2.5, 3.5, 4.5]  Producto E          Ropa\n"
     ]
    },
    {
     "name": "stderr",
     "output_type": "stream",
     "text": [
      "[2024-12-06T05:55:02Z WARN  lance::dataset] No existing dataset at /usr/src/app/notebooks/data/nueva_db/nueva_tabla.lance, it will be created\n"
     ]
    }
   ],
   "source": [
    "from lancedb.pydantic import LanceModel, Vector\n",
    "\n",
    "# 1. Define schema using Pydantic model\n",
    "class Item(LanceModel):\n",
    "    vector: Vector(4)  # Vector de 4 dimensiones\n",
    "    nombre: str\n",
    "    categoria: str\n",
    "\n",
    "# 2. Create empty table with schema\n",
    "db = lancedb.connect('data/nueva_db')\n",
    "tabla = db.create_table(\n",
    "    \"nueva_tabla\",\n",
    "    schema=Item.to_arrow_schema(),\n",
    "    mode=\"overwrite\"\n",
    ")\n",
    "\n",
    "# 3. Crear 5 registros de ejemplo\n",
    "data = [\n",
    "    {\n",
    "        \"vector\": [1.0, 2.0, 3.0, 4.0],\n",
    "        \"nombre\": \"Producto A\",\n",
    "        \"categoria\": \"Electrónicos\"\n",
    "    },\n",
    "    {\n",
    "        \"vector\": [2.5, 3.5, 4.5, 5.5],\n",
    "        \"nombre\": \"Producto B\",\n",
    "        \"categoria\": \"Ropa\"\n",
    "    },\n",
    "    {\n",
    "        \"vector\": [0.5, 1.5, 2.5, 3.5],\n",
    "        \"nombre\": \"Producto C\",\n",
    "        \"categoria\": \"Hogar\"\n",
    "    },\n",
    "    {\n",
    "        \"vector\": [3.0, 3.0, 3.0, 3.0],\n",
    "        \"nombre\": \"Producto D\",\n",
    "        \"categoria\": \"Electrónicos\"\n",
    "    },\n",
    "    {\n",
    "        \"vector\": [1.5, 2.5, 3.5, 4.5],\n",
    "        \"nombre\": \"Producto E\",\n",
    "        \"categoria\": \"Ropa\"\n",
    "    }\n",
    "]\n",
    "\n",
    "# 4. Insert records into table\n",
    "tabla.add(data)\n",
    "\n",
    "# 5. Display table contents\n",
    "print(\"\\nContenido de la tabla:\")\n",
    "print(tabla.to_pandas())"
   ]
  },
  {
   "cell_type": "markdown",
   "metadata": {
    "id": "PMTgGIZbP4V6"
   },
   "source": [
    "**Task 3: Actualización de vectores y filtrado**\n",
    "\n",
    "Instrucciones:\n",
    "1. Crea una tabla utilizando un DataFrame de Pandas con las siguientes columnas:\n",
    "- id (Entero).\n",
    "- vector (Lista de tres números flotantes)\n",
    "2. Actualiza el vector de la fila donde id=3 a [10.0, 11.0, 10.0]\n",
    "3. Filtra la tabla para mostrar solo las filas donde al menos un valor del vector sea mayor a 9.0\n"
   ]
  },
  {
   "cell_type": "code",
   "execution_count": 47,
   "metadata": {
    "id": "gKkb7mmgRNWO"
   },
   "outputs": [
    {
     "name": "stdout",
     "output_type": "stream",
     "text": [
      "Tabla original:\n",
      "   id           vector\n",
      "0   1  [1.0, 2.0, 3.0]\n",
      "1   2  [4.0, 5.0, 6.0]\n",
      "2   3  [7.0, 8.0, 9.0]\n",
      "3   4  [2.0, 3.0, 4.0]\n",
      "4   5  [5.0, 6.0, 7.0]\n",
      "\n",
      "Tabla después de actualizar el vector:\n",
      "   id              vector\n",
      "0   1     [1.0, 2.0, 3.0]\n",
      "1   2     [4.0, 5.0, 6.0]\n",
      "2   4     [2.0, 3.0, 4.0]\n",
      "3   5     [5.0, 6.0, 7.0]\n",
      "4   3  [10.0, 11.0, 10.0]\n",
      "\n",
      "Filas donde algún valor del vector es mayor a 9.0:\n",
      "   id              vector\n",
      "4   3  [10.0, 11.0, 10.0]\n"
     ]
    },
    {
     "name": "stderr",
     "output_type": "stream",
     "text": [
      "[2024-12-06T05:55:42Z WARN  lance::dataset] No existing dataset at /usr/src/app/notebooks/data/vector_db/vector_table.lance, it will be created\n"
     ]
    }
   ],
   "source": [
    "# 1. Create DataFrame with id and vector columns\n",
    "data = pd.DataFrame({\n",
    "    \"id\": [1, 2, 3, 4, 5],\n",
    "    \"vector\": [\n",
    "        [1.0, 2.0, 3.0],\n",
    "        [4.0, 5.0, 6.0],\n",
    "        [7.0, 8.0, 9.0],\n",
    "        [2.0, 3.0, 4.0],\n",
    "        [5.0, 6.0, 7.0]\n",
    "    ]\n",
    "})\n",
    "\n",
    "# Create schema and table\n",
    "schema = pa.schema([\n",
    "    (\"id\", pa.int64()),\n",
    "    (\"vector\", pa.list_(pa.float32(), 3))  # Lista fija de 3 flotantes\n",
    "])\n",
    "\n",
    "# Create table\n",
    "db = lancedb.connect('data/vector_db')\n",
    "table = db.create_table(\"vector_table\", \n",
    "                       data=data, \n",
    "                       schema=schema,\n",
    "                       mode=\"overwrite\")\n",
    "\n",
    "print(\"Tabla original:\")\n",
    "print(table.to_pandas())\n",
    "\n",
    "# 2. Update vector where id = 3\n",
    "table.update(\n",
    "    where=\"id = 3\",\n",
    "    values={\"vector\": [10.0, 11.0, 10.0]}\n",
    ")\n",
    "\n",
    "print(\"\\nTabla después de actualizar el vector:\")\n",
    "print(table.to_pandas())\n",
    "\n",
    "# 3. Filter rows where any vector value > 9.0\n",
    "# We need to use to_pandas() first because we need to examine vector values\n",
    "df = table.to_pandas()\n",
    "filtered_df = df[df['vector'].apply(lambda x: any(v > 9.0 for v in x))]\n",
    "\n",
    "print(\"\\nFilas donde algún valor del vector es mayor a 9.0:\")\n",
    "print(filtered_df)"
   ]
  },
  {
   "cell_type": "markdown",
   "metadata": {
    "id": "rargPzZFP4nX"
   },
   "source": [
    "**Task 4: Embeddings multimodales y búsqueda combinada**\n",
    "\n",
    "Instrucciones:\n",
    "1. Crea una tabla con datos de texto e imágenes combinados. Incluye las siguientes columnas:\n",
    "- texto (Texto).\n",
    "- imagen (Nombre del archivo de imagen).\n",
    "- embedding_texto (Vector del texto generado con SentenceTransformer).\n",
    "- embedding_imagen (Vector de la imagen generado con ResNet18).\n",
    "2. Realiza una consulta para encontrar los elementos con un texto similar a \"La tecnología avanza rápido\" y una imagen visualmente similar a un color predominantemente azul.\n",
    "3. Muestra los resultados combinados ordenados por la menor distancia promedio entre ambos embeddings.\n"
   ]
  },
  {
   "cell_type": "code",
   "execution_count": 50,
   "metadata": {
    "id": "YIY57gZHQgBv"
   },
   "outputs": [
    {
     "name": "stdout",
     "output_type": "stream",
     "text": [
      "\n",
      "Resultados de la búsqueda:\n",
      "Texto: La tecnología avanza cada día\n",
      "Imagen: imagen_1.jpg\n",
      "Distancia: 0.2799\n",
      "\n",
      "Texto: El cielo es azul y brillante\n",
      "Imagen: imagen_2.jpg\n",
      "Distancia: 1.2215\n",
      "\n",
      "Texto: Los colores del atardecer\n",
      "Imagen: imagen_4.jpg\n",
      "Distancia: 1.2779\n",
      "\n"
     ]
    }
   ],
   "source": [
    "# 1. Preparar los modelos\n",
    "text_model = SentenceTransformer('all-MiniLM-L6-v2')\n",
    "image_model = resnet18(weights=ResNet18_Weights.IMAGENET1K_V1)\n",
    "image_model.eval()\n",
    "\n",
    "# 2. Crear datos de ejemplo\n",
    "datos = {\n",
    "    'texto': [\n",
    "        \"La tecnología avanza cada día\",\n",
    "        \"El cielo es azul y brillante\",\n",
    "        \"La inteligencia artificial mejora\",\n",
    "        \"Los colores del atardecer\"\n",
    "    ],\n",
    "    'imagen': [\n",
    "        \"imagen_1.jpg\",\n",
    "        \"imagen_2.jpg\",\n",
    "        \"imagen_3.jpg\",\n",
    "        \"imagen_4.jpg\"\n",
    "    ]\n",
    "}\n",
    "\n",
    "# Convertir a DataFrame\n",
    "df = pd.DataFrame(datos)\n",
    "\n",
    "# Generar embeddings con dimensión fija\n",
    "EMBED_DIM = 384  # Dimensión fija para embeddings de texto\n",
    "IMG_EMBED_DIM = 1000  # Dimensión fija para embeddings de imagen\n",
    "\n",
    "# Generar embeddings\n",
    "df['embedding_texto'] = df['texto'].apply(lambda x: text_model.encode(x).astype(np.float32))\n",
    "df['embedding_imagen'] = df['imagen'].apply(lambda x: np.random.rand(IMG_EMBED_DIM).astype(np.float32))\n",
    "\n",
    "# 3. Crear schema con vectores de tamaño fijo\n",
    "schema = pa.schema([\n",
    "    ('texto', pa.string()),\n",
    "    ('imagen', pa.string()),\n",
    "    ('embedding_texto', pa.list_(pa.float32(), EMBED_DIM)),  # Vector fijo\n",
    "    ('embedding_imagen', pa.list_(pa.float32(), IMG_EMBED_DIM))  # Vector fijo\n",
    "])\n",
    "\n",
    "# 4. Crear y guardar tabla\n",
    "db = lancedb.connect('data/multimodal_db')\n",
    "tabla = db.create_table('multimodal', \n",
    "                       data=df,\n",
    "                       schema=schema,\n",
    "                       mode=\"overwrite\")\n",
    "\n",
    "# 5. Realizar búsqueda\n",
    "query_texto = \"La tecnología avanza rápido\"\n",
    "query_texto_embedding = text_model.encode(query_texto).astype(np.float32)\n",
    "\n",
    "# Buscar por similitud de texto\n",
    "resultados = (\n",
    "    tabla.search(query_texto_embedding, vector_column_name=\"embedding_texto\")\n",
    "    .limit(3)\n",
    "    .to_pandas()\n",
    ")\n",
    "\n",
    "print(\"\\nResultados de la búsqueda:\")\n",
    "for _, row in resultados.iterrows():\n",
    "    print(f\"Texto: {row['texto']}\")\n",
    "    print(f\"Imagen: {row['imagen']}\")\n",
    "    print(f\"Distancia: {row['_distance']:.4f}\\n\")"
   ]
  },
  {
   "cell_type": "code",
   "execution_count": null,
   "metadata": {},
   "outputs": [],
   "source": []
  }
 ],
 "metadata": {
  "colab": {
   "provenance": []
  },
  "kernelspec": {
   "display_name": "Python 3 (ipykernel)",
   "language": "python",
   "name": "python3"
  },
  "language_info": {
   "codemirror_mode": {
    "name": "ipython",
    "version": 3
   },
   "file_extension": ".py",
   "mimetype": "text/x-python",
   "name": "python",
   "nbconvert_exporter": "python",
   "pygments_lexer": "ipython3",
   "version": "3.10.16"
  }
 },
 "nbformat": 4,
 "nbformat_minor": 4
}
